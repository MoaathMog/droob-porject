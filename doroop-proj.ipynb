{
 "cells": [
  {
   "cell_type": "markdown",
   "metadata": {},
   "source": [
    "# Doroob E-Learning Dataset\n",
    "\n",
    "# منصة دروب هي منصة وطنية للتدريب الإلكتروني وهي إحدى مبادرات صندوق تنمية الموارد البشرية التي تسعى إلى تمكين القوى العاملة من خلال تطوير قدراتهم ورفع مهاراتهم وفق احتياجات سوق العمل وسبب الدراسة الاحصائية  لمعرفة اهمية منصة دروب وبيان مدى اهتمام المتدربين لحضور الدورات المقدمه من منصة دروب من كافة أنحاء اللمملكة\n",
    "\n",
    "## Website :https://www.doroob.sa/\n",
    "### Dataset Source: https://od.data.gov.sa/ar/national-platforms"
   ]
  },
  {
   "cell_type": "code",
   "execution_count": null,
   "metadata": {},
   "outputs": [],
   "source": []
  },
  {
   "cell_type": "code",
   "execution_count": 2,
   "metadata": {},
   "outputs": [],
   "source": [
    "## Import required libraries\n",
    "import numpy as np\n",
    "import pandas as pd\n",
    "import matplotlib.pyplot as plt"
   ]
  },
  {
   "cell_type": "code",
   "execution_count": 11,
   "metadata": {},
   "outputs": [],
   "source": [
    "df = pd.read_excel('doroob_2022.xlsx', sheet_name=None)"
   ]
  },
  {
   "cell_type": "code",
   "execution_count": 36,
   "metadata": {},
   "outputs": [],
   "source": [
    "stdf = pd.DataFrame(list(df.values())[0])\n"
   ]
  },
  {
   "cell_type": "code",
   "execution_count": 48,
   "metadata": {},
   "outputs": [
    {
     "data": {
      "text/plain": [
       "Index(['ID', 'العمر', 'اسم التدريب', 'تاريخ التسجيل', 'تاريخ الانتهاء',\n",
       "       'المدينة', 'المنطقة', 'الجنس'],\n",
       "      dtype='object')"
      ]
     },
     "execution_count": 48,
     "metadata": {},
     "output_type": "execute_result"
    }
   ],
   "source": [
    "stdf.columns"
   ]
  },
  {
   "cell_type": "code",
   "execution_count": 59,
   "metadata": {},
   "outputs": [
    {
     "data": {
      "text/html": [
       "<div>\n",
       "<style scoped>\n",
       "    .dataframe tbody tr th:only-of-type {\n",
       "        vertical-align: middle;\n",
       "    }\n",
       "\n",
       "    .dataframe tbody tr th {\n",
       "        vertical-align: top;\n",
       "    }\n",
       "\n",
       "    .dataframe thead th {\n",
       "        text-align: right;\n",
       "    }\n",
       "</style>\n",
       "<table border=\"1\" class=\"dataframe\">\n",
       "  <thead>\n",
       "    <tr style=\"text-align: right;\">\n",
       "      <th></th>\n",
       "      <th>ID</th>\n",
       "      <th>العمر</th>\n",
       "      <th>اسم التدريب</th>\n",
       "      <th>تاريخ التسجيل</th>\n",
       "      <th>تاريخ الانتهاء</th>\n",
       "      <th>المدينة</th>\n",
       "      <th>المنطقة</th>\n",
       "      <th>الجنس</th>\n",
       "    </tr>\n",
       "  </thead>\n",
       "  <tbody>\n",
       "    <tr>\n",
       "      <th>0</th>\n",
       "      <td>1</td>\n",
       "      <td>45.0</td>\n",
       "      <td>برنامج معالجة النصوص Word</td>\n",
       "      <td>2022-12-15 11:58:39</td>\n",
       "      <td>NaT</td>\n",
       "      <td>جدة</td>\n",
       "      <td>مكة المكرمة</td>\n",
       "      <td>انثى</td>\n",
       "    </tr>\n",
       "    <tr>\n",
       "      <th>1</th>\n",
       "      <td>2</td>\n",
       "      <td>47.0</td>\n",
       "      <td>إدارة فرق العمل عن بعد</td>\n",
       "      <td>2022-12-14 21:44:02</td>\n",
       "      <td>2022-12-14 21:48:24</td>\n",
       "      <td>جدة</td>\n",
       "      <td>مكة المكرمة</td>\n",
       "      <td>انثى</td>\n",
       "    </tr>\n",
       "    <tr>\n",
       "      <th>2</th>\n",
       "      <td>3</td>\n",
       "      <td>21.0</td>\n",
       "      <td>رحلة البحث عن عمل</td>\n",
       "      <td>2022-12-15 20:55:28</td>\n",
       "      <td>2022-12-16 15:19:38</td>\n",
       "      <td>جدة</td>\n",
       "      <td>مكة المكرمة</td>\n",
       "      <td>انثى</td>\n",
       "    </tr>\n",
       "    <tr>\n",
       "      <th>3</th>\n",
       "      <td>4</td>\n",
       "      <td>40.0</td>\n",
       "      <td>برنامج معالجة النصوص Word</td>\n",
       "      <td>2022-12-15 01:50:38</td>\n",
       "      <td>2022-12-15 01:52:49</td>\n",
       "      <td>جدة</td>\n",
       "      <td>مكة المكرمة</td>\n",
       "      <td>انثى</td>\n",
       "    </tr>\n",
       "    <tr>\n",
       "      <th>4</th>\n",
       "      <td>5</td>\n",
       "      <td>43.0</td>\n",
       "      <td>فن إتيكيت العمل</td>\n",
       "      <td>2022-12-15 03:55:45</td>\n",
       "      <td>NaT</td>\n",
       "      <td>أحد رفيدة</td>\n",
       "      <td>NaN</td>\n",
       "      <td>انثى</td>\n",
       "    </tr>\n",
       "  </tbody>\n",
       "</table>\n",
       "</div>"
      ],
      "text/plain": [
       "   ID  العمر                اسم التدريب       تاريخ التسجيل  \\\n",
       "0   1   45.0  برنامج معالجة النصوص Word 2022-12-15 11:58:39   \n",
       "1   2   47.0     إدارة فرق العمل عن بعد 2022-12-14 21:44:02   \n",
       "2   3   21.0          رحلة البحث عن عمل 2022-12-15 20:55:28   \n",
       "3   4   40.0  برنامج معالجة النصوص Word 2022-12-15 01:50:38   \n",
       "4   5   43.0            فن إتيكيت العمل 2022-12-15 03:55:45   \n",
       "\n",
       "       تاريخ الانتهاء    المدينة      المنطقة الجنس  \n",
       "0                 NaT        جدة  مكة المكرمة  انثى  \n",
       "1 2022-12-14 21:48:24        جدة  مكة المكرمة  انثى  \n",
       "2 2022-12-16 15:19:38        جدة  مكة المكرمة  انثى  \n",
       "3 2022-12-15 01:52:49        جدة  مكة المكرمة  انثى  \n",
       "4                 NaT  أحد رفيدة          NaN  انثى  "
      ]
     },
     "execution_count": 59,
     "metadata": {},
     "output_type": "execute_result"
    }
   ],
   "source": [
    "# this is the main dataframe that we will work with\n",
    "stdf.head()"
   ]
  },
  {
   "cell_type": "code",
   "execution_count": 60,
   "metadata": {},
   "outputs": [
    {
     "data": {
      "text/html": [
       "<div>\n",
       "<style scoped>\n",
       "    .dataframe tbody tr th:only-of-type {\n",
       "        vertical-align: middle;\n",
       "    }\n",
       "\n",
       "    .dataframe tbody tr th {\n",
       "        vertical-align: top;\n",
       "    }\n",
       "\n",
       "    .dataframe thead th {\n",
       "        text-align: right;\n",
       "    }\n",
       "</style>\n",
       "<table border=\"1\" class=\"dataframe\">\n",
       "  <thead>\n",
       "    <tr style=\"text-align: right;\">\n",
       "      <th></th>\n",
       "      <th>ID</th>\n",
       "    </tr>\n",
       "    <tr>\n",
       "      <th>اسم التدريب</th>\n",
       "      <th></th>\n",
       "    </tr>\n",
       "  </thead>\n",
       "  <tbody>\n",
       "    <tr>\n",
       "      <th>العقلية الريادية وإدارة الأزمات</th>\n",
       "      <td>4670</td>\n",
       "    </tr>\n",
       "    <tr>\n",
       "      <th>العناصر الرئيسية لنجاح ريادة الأعمال</th>\n",
       "      <td>4026</td>\n",
       "    </tr>\n",
       "    <tr>\n",
       "      <th>استمرارية الأعمال والتعافي من الأزمات</th>\n",
       "      <td>3595</td>\n",
       "    </tr>\n",
       "    <tr>\n",
       "      <th>إدارة المشتريات وأصحاب مصلحة المشروع</th>\n",
       "      <td>3583</td>\n",
       "    </tr>\n",
       "    <tr>\n",
       "      <th>مكونات الإبداع في بيئة العمل</th>\n",
       "      <td>3548</td>\n",
       "    </tr>\n",
       "    <tr>\n",
       "      <th>خطة التطوير الفردية</th>\n",
       "      <td>3464</td>\n",
       "    </tr>\n",
       "    <tr>\n",
       "      <th>برنامج معالجة النصوص Word</th>\n",
       "      <td>2890</td>\n",
       "    </tr>\n",
       "    <tr>\n",
       "      <th>برنامج جداول البيانات Excel</th>\n",
       "      <td>2754</td>\n",
       "    </tr>\n",
       "    <tr>\n",
       "      <th>مهارات التفكير الإبداعي</th>\n",
       "      <td>2528</td>\n",
       "    </tr>\n",
       "    <tr>\n",
       "      <th>برنامج العروض التقديمية PowerPoint</th>\n",
       "      <td>2414</td>\n",
       "    </tr>\n",
       "  </tbody>\n",
       "</table>\n",
       "</div>"
      ],
      "text/plain": [
       "                                         ID\n",
       "اسم التدريب                                \n",
       "العقلية الريادية وإدارة الأزمات        4670\n",
       "العناصر الرئيسية لنجاح ريادة الأعمال   4026\n",
       "استمرارية الأعمال والتعافي من الأزمات  3595\n",
       "إدارة المشتريات وأصحاب مصلحة المشروع   3583\n",
       "مكونات الإبداع في بيئة العمل           3548\n",
       "خطة التطوير الفردية                    3464\n",
       "برنامج معالجة النصوص Word              2890\n",
       "برنامج جداول البيانات Excel            2754\n",
       "مهارات التفكير الإبداعي                2528\n",
       "برنامج العروض التقديمية PowerPoint     2414"
      ]
     },
     "execution_count": 60,
     "metadata": {},
     "output_type": "execute_result"
    }
   ],
   "source": [
    "# this is just a test for grouping 'اسم التدريب'\n",
    "group = stdf[['ID' , 'اسم التدريب']].groupby('اسم التدريب').count()\n",
    "group.sort_values(by='ID', ascending=False, inplace=True)\n",
    "group.head(10)"
   ]
  },
  {
   "cell_type": "markdown",
   "metadata": {},
   "source": [
    "## First Apply EDA\n",
    "\n",
    "### EDA steps: head, shape, info, describe, missing values"
   ]
  },
  {
   "cell_type": "code",
   "execution_count": null,
   "metadata": {},
   "outputs": [],
   "source": [
    "# to be compeleted"
   ]
  },
  {
   "cell_type": "markdown",
   "metadata": {},
   "source": [
    "### Apply the additional EDA steps based on your dataset needs."
   ]
  },
  {
   "cell_type": "code",
   "execution_count": 61,
   "metadata": {},
   "outputs": [],
   "source": [
    "# to be compeleted.\n",
    "# suggestion to add new colomn that calculate the duration of a completed course by minusing finished date to startding date. \n",
    "# If there is no finish day return 0"
   ]
  },
  {
   "cell_type": "markdown",
   "metadata": {},
   "source": [
    "# 1\n",
    "###   - معرفة أكثر خمس دورات استخدامًا"
   ]
  },
  {
   "cell_type": "code",
   "execution_count": null,
   "metadata": {},
   "outputs": [],
   "source": [
    "# to be completed "
   ]
  },
  {
   "cell_type": "markdown",
   "metadata": {},
   "source": [
    "# 2\n",
    "### -  المواضيع الاكثر اهتماماً لكل (ذكر\\انثى)"
   ]
  },
  {
   "cell_type": "code",
   "execution_count": null,
   "metadata": {},
   "outputs": [],
   "source": [
    "# to be completed"
   ]
  },
  {
   "cell_type": "markdown",
   "metadata": {},
   "source": [
    "## 3\n",
    "### عدد المتدربين من كل منطقه.."
   ]
  },
  {
   "cell_type": "code",
   "execution_count": null,
   "metadata": {},
   "outputs": [],
   "source": [
    "# to be compeleted"
   ]
  },
  {
   "cell_type": "markdown",
   "metadata": {},
   "source": [
    "## 4\n",
    "### -مواضيع الدورات الاكثر اهتمامًا على حسب المنطقة."
   ]
  },
  {
   "cell_type": "code",
   "execution_count": null,
   "metadata": {},
   "outputs": [],
   "source": [
    "# to be compeleted"
   ]
  },
  {
   "cell_type": "markdown",
   "metadata": {},
   "source": [
    "## 5\n",
    "### معرفة مواضيع الدوارات التي تم إتمامها منها ومدة الإتمام"
   ]
  },
  {
   "cell_type": "code",
   "execution_count": null,
   "metadata": {},
   "outputs": [],
   "source": [
    "# to be compeleted"
   ]
  },
  {
   "cell_type": "markdown",
   "metadata": {},
   "source": [
    "## 6\n",
    "### -معرفة عدد المتدربين  كل فئة عمرية"
   ]
  },
  {
   "cell_type": "code",
   "execution_count": null,
   "metadata": {},
   "outputs": [],
   "source": [
    "# to be compeleted"
   ]
  },
  {
   "cell_type": "markdown",
   "metadata": {},
   "source": [
    "## 7\n",
    "### - بيان للفئات العمريه المهتمه بدورات تقنية المعلومات"
   ]
  },
  {
   "cell_type": "code",
   "execution_count": null,
   "metadata": {},
   "outputs": [],
   "source": [
    "# to be compeleted"
   ]
  },
  {
   "cell_type": "markdown",
   "metadata": {},
   "source": [
    "## 8\n",
    "### -معرفة اكثر الدورات اهتماما للفئة العمرية من ١٥ الى ٢٠"
   ]
  },
  {
   "cell_type": "code",
   "execution_count": null,
   "metadata": {},
   "outputs": [],
   "source": [
    "## to be compeleted"
   ]
  }
 ],
 "metadata": {
  "kernelspec": {
   "display_name": "Python 3",
   "language": "python",
   "name": "python3"
  },
  "language_info": {
   "codemirror_mode": {
    "name": "ipython",
    "version": 3
   },
   "file_extension": ".py",
   "mimetype": "text/x-python",
   "name": "python",
   "nbconvert_exporter": "python",
   "pygments_lexer": "ipython3",
   "version": "3.7.6"
  }
 },
 "nbformat": 4,
 "nbformat_minor": 4
}
